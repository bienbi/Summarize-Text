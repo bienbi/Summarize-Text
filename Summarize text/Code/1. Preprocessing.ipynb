{
 "cells": [
  {
   "cell_type": "code",
   "execution_count": 1,
   "id": "ad4613ca",
   "metadata": {
    "execution": {
     "iopub.execute_input": "2024-01-05T13:13:04.197030Z",
     "iopub.status.busy": "2024-01-05T13:13:04.196147Z",
     "iopub.status.idle": "2024-01-05T13:13:59.596713Z",
     "shell.execute_reply": "2024-01-05T13:13:59.595165Z"
    },
    "papermill": {
     "duration": 55.416622,
     "end_time": "2024-01-05T13:13:59.600047",
     "exception": false,
     "start_time": "2024-01-05T13:13:04.183425",
     "status": "completed"
    },
    "tags": []
   },
   "outputs": [
    {
     "name": "stdout",
     "output_type": "stream",
     "text": [
      "Collecting en-core-web-lg==3.7.1\r\n",
      "  Downloading https://github.com/explosion/spacy-models/releases/download/en_core_web_lg-3.7.1/en_core_web_lg-3.7.1-py3-none-any.whl (587.7 MB)\r\n",
      "\u001b[2K     \u001b[90m━━━━━━━━━━━━━━━━━━━━━━━━━━━━━━━━━━━━━━━\u001b[0m \u001b[32m587.7/587.7 MB\u001b[0m \u001b[31m1.8 MB/s\u001b[0m eta \u001b[36m0:00:00\u001b[0m\r\n",
      "\u001b[?25hRequirement already satisfied: spacy<3.8.0,>=3.7.2 in /opt/conda/lib/python3.10/site-packages (from en-core-web-lg==3.7.1) (3.7.2)\r\n",
      "Requirement already satisfied: spacy-legacy<3.1.0,>=3.0.11 in /opt/conda/lib/python3.10/site-packages (from spacy<3.8.0,>=3.7.2->en-core-web-lg==3.7.1) (3.0.12)\r\n",
      "Requirement already satisfied: spacy-loggers<2.0.0,>=1.0.0 in /opt/conda/lib/python3.10/site-packages (from spacy<3.8.0,>=3.7.2->en-core-web-lg==3.7.1) (1.0.5)\r\n",
      "Requirement already satisfied: murmurhash<1.1.0,>=0.28.0 in /opt/conda/lib/python3.10/site-packages (from spacy<3.8.0,>=3.7.2->en-core-web-lg==3.7.1) (1.0.10)\r\n",
      "Requirement already satisfied: cymem<2.1.0,>=2.0.2 in /opt/conda/lib/python3.10/site-packages (from spacy<3.8.0,>=3.7.2->en-core-web-lg==3.7.1) (2.0.8)\r\n",
      "Requirement already satisfied: preshed<3.1.0,>=3.0.2 in /opt/conda/lib/python3.10/site-packages (from spacy<3.8.0,>=3.7.2->en-core-web-lg==3.7.1) (3.0.9)\r\n",
      "Requirement already satisfied: thinc<8.3.0,>=8.1.8 in /opt/conda/lib/python3.10/site-packages (from spacy<3.8.0,>=3.7.2->en-core-web-lg==3.7.1) (8.2.1)\r\n",
      "Requirement already satisfied: wasabi<1.2.0,>=0.9.1 in /opt/conda/lib/python3.10/site-packages (from spacy<3.8.0,>=3.7.2->en-core-web-lg==3.7.1) (1.1.2)\r\n",
      "Requirement already satisfied: srsly<3.0.0,>=2.4.3 in /opt/conda/lib/python3.10/site-packages (from spacy<3.8.0,>=3.7.2->en-core-web-lg==3.7.1) (2.4.8)\r\n",
      "Requirement already satisfied: catalogue<2.1.0,>=2.0.6 in /opt/conda/lib/python3.10/site-packages (from spacy<3.8.0,>=3.7.2->en-core-web-lg==3.7.1) (2.0.10)\r\n",
      "Requirement already satisfied: weasel<0.4.0,>=0.1.0 in /opt/conda/lib/python3.10/site-packages (from spacy<3.8.0,>=3.7.2->en-core-web-lg==3.7.1) (0.3.4)\r\n",
      "Requirement already satisfied: typer<0.10.0,>=0.3.0 in /opt/conda/lib/python3.10/site-packages (from spacy<3.8.0,>=3.7.2->en-core-web-lg==3.7.1) (0.9.0)\r\n",
      "Requirement already satisfied: smart-open<7.0.0,>=5.2.1 in /opt/conda/lib/python3.10/site-packages (from spacy<3.8.0,>=3.7.2->en-core-web-lg==3.7.1) (6.3.0)\r\n",
      "Requirement already satisfied: tqdm<5.0.0,>=4.38.0 in /opt/conda/lib/python3.10/site-packages (from spacy<3.8.0,>=3.7.2->en-core-web-lg==3.7.1) (4.66.1)\r\n",
      "Requirement already satisfied: requests<3.0.0,>=2.13.0 in /opt/conda/lib/python3.10/site-packages (from spacy<3.8.0,>=3.7.2->en-core-web-lg==3.7.1) (2.31.0)\r\n",
      "Requirement already satisfied: pydantic!=1.8,!=1.8.1,<3.0.0,>=1.7.4 in /opt/conda/lib/python3.10/site-packages (from spacy<3.8.0,>=3.7.2->en-core-web-lg==3.7.1) (1.10.12)\r\n",
      "Requirement already satisfied: jinja2 in /opt/conda/lib/python3.10/site-packages (from spacy<3.8.0,>=3.7.2->en-core-web-lg==3.7.1) (3.1.2)\r\n",
      "Requirement already satisfied: setuptools in /opt/conda/lib/python3.10/site-packages (from spacy<3.8.0,>=3.7.2->en-core-web-lg==3.7.1) (68.1.2)\r\n",
      "Requirement already satisfied: packaging>=20.0 in /opt/conda/lib/python3.10/site-packages (from spacy<3.8.0,>=3.7.2->en-core-web-lg==3.7.1) (21.3)\r\n",
      "Requirement already satisfied: langcodes<4.0.0,>=3.2.0 in /opt/conda/lib/python3.10/site-packages (from spacy<3.8.0,>=3.7.2->en-core-web-lg==3.7.1) (3.3.0)\r\n",
      "Requirement already satisfied: numpy>=1.19.0 in /opt/conda/lib/python3.10/site-packages (from spacy<3.8.0,>=3.7.2->en-core-web-lg==3.7.1) (1.24.3)\r\n",
      "Requirement already satisfied: pyparsing!=3.0.5,>=2.0.2 in /opt/conda/lib/python3.10/site-packages (from packaging>=20.0->spacy<3.8.0,>=3.7.2->en-core-web-lg==3.7.1) (3.0.9)\r\n",
      "Requirement already satisfied: typing-extensions>=4.2.0 in /opt/conda/lib/python3.10/site-packages (from pydantic!=1.8,!=1.8.1,<3.0.0,>=1.7.4->spacy<3.8.0,>=3.7.2->en-core-web-lg==3.7.1) (4.5.0)\r\n",
      "Requirement already satisfied: charset-normalizer<4,>=2 in /opt/conda/lib/python3.10/site-packages (from requests<3.0.0,>=2.13.0->spacy<3.8.0,>=3.7.2->en-core-web-lg==3.7.1) (3.2.0)\r\n",
      "Requirement already satisfied: idna<4,>=2.5 in /opt/conda/lib/python3.10/site-packages (from requests<3.0.0,>=2.13.0->spacy<3.8.0,>=3.7.2->en-core-web-lg==3.7.1) (3.4)\r\n",
      "Requirement already satisfied: urllib3<3,>=1.21.1 in /opt/conda/lib/python3.10/site-packages (from requests<3.0.0,>=2.13.0->spacy<3.8.0,>=3.7.2->en-core-web-lg==3.7.1) (1.26.15)\r\n",
      "Requirement already satisfied: certifi>=2017.4.17 in /opt/conda/lib/python3.10/site-packages (from requests<3.0.0,>=2.13.0->spacy<3.8.0,>=3.7.2->en-core-web-lg==3.7.1) (2023.11.17)\r\n",
      "Requirement already satisfied: blis<0.8.0,>=0.7.8 in /opt/conda/lib/python3.10/site-packages (from thinc<8.3.0,>=8.1.8->spacy<3.8.0,>=3.7.2->en-core-web-lg==3.7.1) (0.7.11)\r\n",
      "Requirement already satisfied: confection<1.0.0,>=0.0.1 in /opt/conda/lib/python3.10/site-packages (from thinc<8.3.0,>=8.1.8->spacy<3.8.0,>=3.7.2->en-core-web-lg==3.7.1) (0.1.4)\r\n",
      "Requirement already satisfied: click<9.0.0,>=7.1.1 in /opt/conda/lib/python3.10/site-packages (from typer<0.10.0,>=0.3.0->spacy<3.8.0,>=3.7.2->en-core-web-lg==3.7.1) (8.1.7)\r\n",
      "Requirement already satisfied: cloudpathlib<0.17.0,>=0.7.0 in /opt/conda/lib/python3.10/site-packages (from weasel<0.4.0,>=0.1.0->spacy<3.8.0,>=3.7.2->en-core-web-lg==3.7.1) (0.16.0)\r\n",
      "Requirement already satisfied: MarkupSafe>=2.0 in /opt/conda/lib/python3.10/site-packages (from jinja2->spacy<3.8.0,>=3.7.2->en-core-web-lg==3.7.1) (2.1.3)\r\n",
      "\u001b[38;5;2m✔ Download and installation successful\u001b[0m\r\n",
      "You can now load the package via spacy.load('en_core_web_lg')\r\n"
     ]
    }
   ],
   "source": [
    "!pip install -q transformers datasets rouge-score\n",
    "\n",
    "\n",
    "#install spacy large language model. (Colab needs to be restarted/)\n",
    "!python -m spacy download en_core_web_lg\n"
   ]
  },
  {
   "cell_type": "code",
   "execution_count": 2,
   "id": "86e2d18a",
   "metadata": {
    "_cell_guid": "b1076dfc-b9ad-4769-8c92-a6c4dae69d19",
    "_uuid": "8f2839f25d086af736a60e9eeb907d3b93b6e0e5",
    "execution": {
     "iopub.execute_input": "2024-01-05T13:13:59.740459Z",
     "iopub.status.busy": "2024-01-05T13:13:59.740045Z",
     "iopub.status.idle": "2024-01-05T13:14:25.509446Z",
     "shell.execute_reply": "2024-01-05T13:14:25.508523Z"
    },
    "papermill": {
     "duration": 25.807317,
     "end_time": "2024-01-05T13:14:25.512096",
     "exception": false,
     "start_time": "2024-01-05T13:13:59.704779",
     "status": "completed"
    },
    "tags": []
   },
   "outputs": [],
   "source": [
    "import tensorflow_datasets as tfds\n",
    "import matplotlib.pyplot as plt\n",
    "import pandas as pd\n",
    "import numpy as np\n",
    "import spacy\n",
    "from tqdm.notebook import tqdm # hiển thị thanh tiến trình \n",
    "\n",
    "import tensorflow_hub as hub # lưu trữ các mô hình học máy được đào tạo sẵn\n",
    "from tensorflow import keras\n",
    "import tensorflow as tf\n",
    "from IPython.display import Image\n",
    "import matplotlib.pyplot as plt\n",
    "\n",
    "\n",
    "nlp = spacy.load('en_core_web_lg')"
   ]
  },
  {
   "cell_type": "code",
   "execution_count": 3,
   "id": "a8666f95",
   "metadata": {
    "execution": {
     "iopub.execute_input": "2024-01-05T13:14:25.583489Z",
     "iopub.status.busy": "2024-01-05T13:14:25.581962Z",
     "iopub.status.idle": "2024-01-05T13:14:25.587376Z",
     "shell.execute_reply": "2024-01-05T13:14:25.586255Z"
    },
    "papermill": {
     "duration": 0.043554,
     "end_time": "2024-01-05T13:14:25.589967",
     "exception": false,
     "start_time": "2024-01-05T13:14:25.546413",
     "status": "completed"
    },
    "tags": []
   },
   "outputs": [],
   "source": [
    "cnn_ds = tfds.as_numpy(tfds.load(\n",
    "    'cnn_dailymail',\n",
    "    split='test',\n",
    "    batch_size=-1\n",
    "))"
   ]
  },
  {
   "cell_type": "code",
   "execution_count": 4,
   "id": "734ff2cf",
   "metadata": {
    "execution": {
     "iopub.execute_input": "2024-01-05T13:14:25.659348Z",
     "iopub.status.busy": "2024-01-05T13:14:25.658225Z",
     "iopub.status.idle": "2024-01-05T13:14:25.663101Z",
     "shell.execute_reply": "2024-01-05T13:14:25.662046Z"
    },
    "papermill": {
     "duration": 0.041535,
     "end_time": "2024-01-05T13:14:25.665552",
     "exception": false,
     "start_time": "2024-01-05T13:14:25.624017",
     "status": "completed"
    },
    "tags": []
   },
   "outputs": [],
   "source": [
    "cnn_df = pd.DataFrame(cnn_ds)\n",
    "# \n",
    "cnn_df.highlights = cnn_df.highlights.apply(lambda x: x.decode('utf-8'))\n",
    "cnn_df[\"summary\"] = cnn_df.highlights.apply(lambda x: \"\".join(x.split(\"\\n\")) )\n",
    "cnn_df.article = cnn_df.article.apply(lambda x: x.decode('utf-8'))\n",
    "cnn_df[\"art_sents\"] = cnn_df.article.apply(lambda x: len([x for x in nlp(x).sents]))\n",
    "cnn_df"
   ]
  },
  {
   "cell_type": "code",
   "execution_count": 5,
   "id": "2763e4cb",
   "metadata": {
    "execution": {
     "iopub.execute_input": "2024-01-05T13:14:25.735435Z",
     "iopub.status.busy": "2024-01-05T13:14:25.734580Z",
     "iopub.status.idle": "2024-01-05T13:14:25.739844Z",
     "shell.execute_reply": "2024-01-05T13:14:25.738718Z"
    },
    "papermill": {
     "duration": 0.042568,
     "end_time": "2024-01-05T13:14:25.742201",
     "exception": false,
     "start_time": "2024-01-05T13:14:25.699633",
     "status": "completed"
    },
    "tags": []
   },
   "outputs": [],
   "source": [
    "art_lengths = [ len(x) for x in cnn_df.article]\n",
    "plt.hist(art_lengths);\n",
    "plt.title(\"Histogram of Article Lengths. Mean = \" + str(round(sum(art_lengths)/ len(art_lengths),1)) + \" words\")"
   ]
  },
  {
   "cell_type": "code",
   "execution_count": 6,
   "id": "76b9bf95",
   "metadata": {
    "execution": {
     "iopub.execute_input": "2024-01-05T13:14:25.810769Z",
     "iopub.status.busy": "2024-01-05T13:14:25.810349Z",
     "iopub.status.idle": "2024-01-05T13:14:25.815114Z",
     "shell.execute_reply": "2024-01-05T13:14:25.813988Z"
    },
    "papermill": {
     "duration": 0.041793,
     "end_time": "2024-01-05T13:14:25.817409",
     "exception": false,
     "start_time": "2024-01-05T13:14:25.775616",
     "status": "completed"
    },
    "tags": []
   },
   "outputs": [],
   "source": [
    "sum_lengths = [ len(x) for x in cnn_df.summary]\n",
    "plt.hist(sum_lengths);\n",
    "plt.title(\"Histogram of Summary Lengths. Mean = \" + str(round(sum(sum_lengths)/ len(sum_lengths),1)) + \" words\")"
   ]
  },
  {
   "cell_type": "code",
   "execution_count": 7,
   "id": "b9659cb0",
   "metadata": {
    "execution": {
     "iopub.execute_input": "2024-01-05T13:14:25.886057Z",
     "iopub.status.busy": "2024-01-05T13:14:25.885603Z",
     "iopub.status.idle": "2024-01-05T13:14:25.890561Z",
     "shell.execute_reply": "2024-01-05T13:14:25.889316Z"
    },
    "papermill": {
     "duration": 0.04307,
     "end_time": "2024-01-05T13:14:25.893381",
     "exception": false,
     "start_time": "2024-01-05T13:14:25.850311",
     "status": "completed"
    },
    "tags": []
   },
   "outputs": [],
   "source": [
    "# art_lengths = [ len(x) for x in cnn_df.article]\n",
    "plt.hist(cnn_df.art_sents);\n",
    "plt.title(\"Histogram of # Sentences per Article . Mean = \" + str(round(sum(cnn_df.art_sents)/ len(cnn_df.art_sents))))"
   ]
  },
  {
   "cell_type": "code",
   "execution_count": 8,
   "id": "2dd34caf",
   "metadata": {
    "execution": {
     "iopub.execute_input": "2024-01-05T13:14:25.961446Z",
     "iopub.status.busy": "2024-01-05T13:14:25.961017Z",
     "iopub.status.idle": "2024-01-05T13:14:25.965831Z",
     "shell.execute_reply": "2024-01-05T13:14:25.964623Z"
    },
    "papermill": {
     "duration": 0.041842,
     "end_time": "2024-01-05T13:14:25.968276",
     "exception": false,
     "start_time": "2024-01-05T13:14:25.926434",
     "status": "completed"
    },
    "tags": []
   },
   "outputs": [],
   "source": [
    "import os"
   ]
  },
  {
   "cell_type": "code",
   "execution_count": 9,
   "id": "dab94d91",
   "metadata": {
    "execution": {
     "iopub.execute_input": "2024-01-05T13:14:26.120672Z",
     "iopub.status.busy": "2024-01-05T13:14:26.120223Z",
     "iopub.status.idle": "2024-01-05T13:14:26.126111Z",
     "shell.execute_reply": "2024-01-05T13:14:26.125063Z"
    },
    "papermill": {
     "duration": 0.049345,
     "end_time": "2024-01-05T13:14:26.128754",
     "exception": false,
     "start_time": "2024-01-05T13:14:26.079409",
     "status": "completed"
    },
    "tags": []
   },
   "outputs": [],
   "source": [
    "test_df =  pd.DataFrame(tfds.as_numpy(tfds.load( 'cnn_dailymail', split='test', batch_size=-1)))\n",
    "train_df = pd.DataFrame(tfds.as_numpy(tfds.load( 'cnn_dailymail', split='train', batch_size=-1)))\n",
    "\n",
    "test_df.highlights = test_df.highlights.apply(lambda x: x.decode('utf-8'))\n",
    "train_df.highlights = train_df.highlights.apply(lambda x: x.decode('utf-8'))\n",
    "\n",
    "test_df.article = test_df.article.apply(lambda x: x.decode('utf-8'))\n",
    "train_df.article = train_df.article.apply(lambda x: x.decode('utf-8'))\n",
    "\n",
    "test_df.shape, train_df.shape"
   ]
  },
  {
   "cell_type": "code",
   "execution_count": 10,
   "id": "f187338a",
   "metadata": {
    "execution": {
     "iopub.execute_input": "2024-01-05T13:14:26.207101Z",
     "iopub.status.busy": "2024-01-05T13:14:26.206643Z",
     "iopub.status.idle": "2024-01-05T13:14:26.211315Z",
     "shell.execute_reply": "2024-01-05T13:14:26.210198Z"
    },
    "papermill": {
     "duration": 0.042924,
     "end_time": "2024-01-05T13:14:26.213630",
     "exception": false,
     "start_time": "2024-01-05T13:14:26.170706",
     "status": "completed"
    },
    "tags": []
   },
   "outputs": [],
   "source": [
    "import json\n",
    "f1 = open(\"/kaggle/input/datatest/test.json\")\n",
    "dict1= json.load(f1)\n",
    "test_df = pd.DataFrame.from_dict(dict1)\n",
    "\n",
    "f2 = open(\"/kaggle/input/datatest/train.json\")\n",
    "dict2= json.load(f2)\n",
    "train_df1 = pd.DataFrame.from_dict(dict2)"
   ]
  },
  {
   "cell_type": "code",
   "execution_count": 11,
   "id": "025059e6",
   "metadata": {
    "execution": {
     "iopub.execute_input": "2024-01-05T13:14:26.284959Z",
     "iopub.status.busy": "2024-01-05T13:14:26.284149Z",
     "iopub.status.idle": "2024-01-05T13:14:26.288623Z",
     "shell.execute_reply": "2024-01-05T13:14:26.287454Z"
    },
    "papermill": {
     "duration": 0.042677,
     "end_time": "2024-01-05T13:14:26.291085",
     "exception": false,
     "start_time": "2024-01-05T13:14:26.248408",
     "status": "completed"
    },
    "tags": []
   },
   "outputs": [],
   "source": [
    "# train_df = train_df1[:50000]"
   ]
  },
  {
   "cell_type": "code",
   "execution_count": 12,
   "id": "729e9273",
   "metadata": {
    "execution": {
     "iopub.execute_input": "2024-01-05T13:14:26.361741Z",
     "iopub.status.busy": "2024-01-05T13:14:26.360979Z",
     "iopub.status.idle": "2024-01-05T13:14:26.366234Z",
     "shell.execute_reply": "2024-01-05T13:14:26.365468Z"
    },
    "papermill": {
     "duration": 0.042499,
     "end_time": "2024-01-05T13:14:26.368472",
     "exception": false,
     "start_time": "2024-01-05T13:14:26.325973",
     "status": "completed"
    },
    "tags": []
   },
   "outputs": [],
   "source": [
    "import os\n",
    "os.makedirs(\"data/\", exist_ok=True)\n",
    "os.makedirs(\"data/test\", exist_ok=True)\n",
    "os.makedirs(\"data/train\", exist_ok=True)\n",
    "\n",
    "# test_df.to_json(\"data/test/test.json\")\n",
    "# train_df.to_json(\"data/train/train.json\")"
   ]
  },
  {
   "cell_type": "code",
   "execution_count": 13,
   "id": "f0d5e1a8",
   "metadata": {
    "execution": {
     "iopub.execute_input": "2024-01-05T13:14:26.437564Z",
     "iopub.status.busy": "2024-01-05T13:14:26.436773Z",
     "iopub.status.idle": "2024-01-05T13:14:26.442081Z",
     "shell.execute_reply": "2024-01-05T13:14:26.441183Z"
    },
    "papermill": {
     "duration": 0.042559,
     "end_time": "2024-01-05T13:14:26.444456",
     "exception": false,
     "start_time": "2024-01-05T13:14:26.401897",
     "status": "completed"
    },
    "tags": []
   },
   "outputs": [],
   "source": [
    "def get_dicts(df, folder=\"test\"):\n",
    "  sents_dict = {}\n",
    "  doc_dict = { i: {\"article\": df.article[i], \"highlight\": df.highlights[i]} for i in df.index }\n",
    "  raw_docs = [ doc_dict[k][\"article\"] for k in doc_dict.keys()]\n",
    "\n",
    "  doc_sents = {}\n",
    "  sents_list = []\n",
    "  raw_sents = []\n",
    "  i = 0\n",
    "  min_sent_length = 14\n",
    "  for k in tqdm(doc_dict.keys()):\n",
    "    article = doc_dict[k][\"article\"]\n",
    "    highlight = doc_dict[k][\"highlight\"]\n",
    "    sents = nlp(article).sents\n",
    "    doc_sent_ids = []\n",
    "    for sent in sents:\n",
    "      if (len(sent)) > min_sent_length:\n",
    "        sents_dict[i] = {\"docid\":k, \"text\": str(sent)}\n",
    "        sents_list.append({\"sentid\":i, \"docid\":k, \"text\": str(sent) })\n",
    "        raw_sents.append(str(sent))\n",
    "        i += 1\n",
    "\n",
    "  return doc_dict, sents_list\n",
    "\n",
    "test_doc_dict, test_sents_list = get_dicts(test_df)\n",
    "train_doc_dict, train_sents_list = get_dicts(train_df)"
   ]
  },
  {
   "cell_type": "code",
   "execution_count": 14,
   "id": "ad218ce9",
   "metadata": {
    "execution": {
     "iopub.execute_input": "2024-01-05T13:14:26.513749Z",
     "iopub.status.busy": "2024-01-05T13:14:26.513023Z",
     "iopub.status.idle": "2024-01-05T13:14:26.517368Z",
     "shell.execute_reply": "2024-01-05T13:14:26.516287Z"
    },
    "papermill": {
     "duration": 0.042209,
     "end_time": "2024-01-05T13:14:26.519947",
     "exception": false,
     "start_time": "2024-01-05T13:14:26.477738",
     "status": "completed"
    },
    "tags": []
   },
   "outputs": [],
   "source": [
    "import json"
   ]
  },
  {
   "cell_type": "code",
   "execution_count": 15,
   "id": "d3664f8e",
   "metadata": {
    "execution": {
     "iopub.execute_input": "2024-01-05T13:14:26.588348Z",
     "iopub.status.busy": "2024-01-05T13:14:26.587916Z",
     "iopub.status.idle": "2024-01-05T13:14:26.592675Z",
     "shell.execute_reply": "2024-01-05T13:14:26.591388Z"
    },
    "papermill": {
     "duration": 0.042018,
     "end_time": "2024-01-05T13:14:26.595130",
     "exception": false,
     "start_time": "2024-01-05T13:14:26.553112",
     "status": "completed"
    },
    "tags": []
   },
   "outputs": [],
   "source": [
    "folder_path = \"data/train\"\n",
    "file_name = \"train_doc_dict.json\"\n",
    "file_path = os.path.join(folder_path, file_name)\n",
    "with open(\"data/train/train_doc_dict.json\", 'w') as f:\n",
    "    json.dump(train_doc_dict, f)"
   ]
  },
  {
   "cell_type": "code",
   "execution_count": 16,
   "id": "032c1e0e",
   "metadata": {
    "execution": {
     "iopub.execute_input": "2024-01-05T13:14:26.663771Z",
     "iopub.status.busy": "2024-01-05T13:14:26.662771Z",
     "iopub.status.idle": "2024-01-05T13:14:26.667164Z",
     "shell.execute_reply": "2024-01-05T13:14:26.666391Z"
    },
    "papermill": {
     "duration": 0.04098,
     "end_time": "2024-01-05T13:14:26.669251",
     "exception": false,
     "start_time": "2024-01-05T13:14:26.628271",
     "status": "completed"
    },
    "tags": []
   },
   "outputs": [],
   "source": [
    "with open(\"data/train/train_sents_list.json\", 'w') as f:\n",
    "    json.dump(train_sents_list, f)"
   ]
  },
  {
   "cell_type": "code",
   "execution_count": 17,
   "id": "e45d2829",
   "metadata": {
    "execution": {
     "iopub.execute_input": "2024-01-05T13:14:26.738539Z",
     "iopub.status.busy": "2024-01-05T13:14:26.737854Z",
     "iopub.status.idle": "2024-01-05T13:14:26.741971Z",
     "shell.execute_reply": "2024-01-05T13:14:26.741077Z"
    },
    "papermill": {
     "duration": 0.041525,
     "end_time": "2024-01-05T13:14:26.744257",
     "exception": false,
     "start_time": "2024-01-05T13:14:26.702732",
     "status": "completed"
    },
    "tags": []
   },
   "outputs": [],
   "source": [
    "test_doc_dict.to_json(\"data/test/test_doc_dict.json\")\n",
    "test_sents_list.to_json(\"data/test/test_sents_list.json\")\n",
    "train_doc_dict.to_json(\"data/train/train_doc_dict.json\")\n",
    "train_sents_list.to_json(\"data/train/train_sents_list.json\")"
   ]
  },
  {
   "cell_type": "code",
   "execution_count": 18,
   "id": "a979d91e",
   "metadata": {
    "execution": {
     "iopub.execute_input": "2024-01-05T13:14:26.814084Z",
     "iopub.status.busy": "2024-01-05T13:14:26.813391Z",
     "iopub.status.idle": "2024-01-05T13:14:28.908530Z",
     "shell.execute_reply": "2024-01-05T13:14:28.907203Z"
    },
    "papermill": {
     "duration": 2.133387,
     "end_time": "2024-01-05T13:14:28.911667",
     "exception": false,
     "start_time": "2024-01-05T13:14:26.778280",
     "status": "completed"
    },
    "tags": []
   },
   "outputs": [],
   "source": [
    "from rouge_score import rouge_scorer\n",
    "scorer = rouge_scorer.RougeScorer(['rouge1', 'rougeL'], use_stemmer=True)\n",
    "\n",
    "def get_rougue_score(text, highlights, metric=\"rougeL\"):\n",
    "  max_score = 0\n",
    "  for h_text in highlights:\n",
    "    score =  scorer.score(text, h_text)[metric].fmeasure\n",
    "    # print(score, text, \"\\n \\t\" , h_text)\n",
    "    if score > max_score:\n",
    "      max_score = score\n",
    "  return max_score\n",
    "\n",
    "\n",
    "def get_label(sent, doc_dict,  score_threshold = 0.55):\n",
    "  sent_id, doc_id, sentence = sent[\"sentid\"], sent[\"docid\"], sent[\"text\"]\n",
    "  highlights = doc_dict[doc_id][\"highlight\"].split(\"\\n\")\n",
    "  doc = doc_dict[doc_id][\"article\"]\n",
    "\n",
    "  label_score = get_rougue_score(sentence, highlights)\n",
    "  # Normalize label to 0/1 based on rogue score threshold\n",
    "  label_score = 0 if label_score < score_threshold else 1\n",
    "  return (sentence, doc, label_score)\n",
    "\n",
    "def sub_sample(sents_batch, doc_dict, neg_multiplier=2):\n",
    "  # get labels\n",
    "  vals = [get_label(x, doc_dict)  for x in sents_batch]\n",
    "\n",
    "  # construct arrays of sentences, corresponding documents and labels\n",
    "  sents, docs, y = [], [], []\n",
    "  for row in vals:\n",
    "    sents.append(row[0])\n",
    "    docs.append(row[1])\n",
    "    y.append(row[2])\n",
    "\n",
    "\n",
    "  # get balanced number of positive and negative\n",
    "  sub_df = pd.DataFrame.from_dict({\"sents\":sents, \"docs\":docs, \"y\":y})\n",
    "  pos_df = sub_df[sub_df.y == 1]\n",
    "  neg_df = sub_df[sub_df.y == 0]\n",
    "\n",
    "  print(\"Negative sample size:\", len(neg_df))\n",
    "  print(\"Positive sample size:\", len(pos_df))\n",
    "\n",
    "  sub_neg_df = neg_df.sample(len(pos_df)*neg_multiplier)\n",
    "#   balanced_df = pos_df.append(sub_neg_df)\n",
    "\n",
    "  return pos_df, sub_neg_df"
   ]
  },
  {
   "cell_type": "code",
   "execution_count": 19,
   "id": "fa80b020",
   "metadata": {
    "execution": {
     "iopub.execute_input": "2024-01-05T13:14:28.980823Z",
     "iopub.status.busy": "2024-01-05T13:14:28.980142Z",
     "iopub.status.idle": "2024-01-05T13:14:32.256793Z",
     "shell.execute_reply": "2024-01-05T13:14:32.255474Z"
    },
    "papermill": {
     "duration": 3.314479,
     "end_time": "2024-01-05T13:14:32.259584",
     "exception": false,
     "start_time": "2024-01-05T13:14:28.945105",
     "status": "completed"
    },
    "tags": []
   },
   "outputs": [],
   "source": [
    "f1 = open(\"/kaggle/input/dataset/train_doc_dict.json\")\n",
    "train_doc_dict = json.load(f1)\n",
    "# train_doc_dict = pd.DataFrame.from_dict(dict1, orient = 'index')\n",
    "\n",
    "# f2 = open(\"/kaggle/input/dataset/train_sents_list.json\")\n",
    "# dict2= json.load(f2)\n",
    "# train_sents_list = pd.DataFrame(dict2)"
   ]
  },
  {
   "cell_type": "code",
   "execution_count": 20,
   "id": "d1e252e6",
   "metadata": {
    "execution": {
     "iopub.execute_input": "2024-01-05T13:14:32.329577Z",
     "iopub.status.busy": "2024-01-05T13:14:32.329180Z",
     "iopub.status.idle": "2024-01-05T13:14:37.391755Z",
     "shell.execute_reply": "2024-01-05T13:14:37.390505Z"
    },
    "papermill": {
     "duration": 5.101741,
     "end_time": "2024-01-05T13:14:37.394680",
     "exception": false,
     "start_time": "2024-01-05T13:14:32.292939",
     "status": "completed"
    },
    "tags": []
   },
   "outputs": [],
   "source": [
    "f2 = open(\"/kaggle/input/dataset/train_sents_list.json\")\n",
    "train_sents_list = json.load(f2)\n",
    "# train_sents_list = pd.DataFrame(dict2)"
   ]
  },
  {
   "cell_type": "code",
   "execution_count": 21,
   "id": "4e512555",
   "metadata": {
    "execution": {
     "iopub.execute_input": "2024-01-05T13:14:37.463632Z",
     "iopub.status.busy": "2024-01-05T13:14:37.463210Z",
     "iopub.status.idle": "2024-01-05T15:02:35.588890Z",
     "shell.execute_reply": "2024-01-05T15:02:35.587417Z"
    },
    "papermill": {
     "duration": 6478.197083,
     "end_time": "2024-01-05T15:02:35.625119",
     "exception": false,
     "start_time": "2024-01-05T13:14:37.428036",
     "status": "completed"
    },
    "tags": []
   },
   "outputs": [
    {
     "name": "stdout",
     "output_type": "stream",
     "text": [
      "Negative sample size: 1238943\n",
      "Positive sample size: 39878\n"
     ]
    }
   ],
   "source": [
    "train_pos_df, train_sub_neg_df = sub_sample(train_sents_list, train_doc_dict)\n",
    "# train_bdf = train_pos_df.append(train_sub_neg_df)\n"
   ]
  },
  {
   "cell_type": "code",
   "execution_count": 22,
   "id": "d0f5e3d5",
   "metadata": {
    "execution": {
     "iopub.execute_input": "2024-01-05T15:02:35.695672Z",
     "iopub.status.busy": "2024-01-05T15:02:35.695247Z",
     "iopub.status.idle": "2024-01-05T15:02:35.699932Z",
     "shell.execute_reply": "2024-01-05T15:02:35.698694Z"
    },
    "papermill": {
     "duration": 0.043595,
     "end_time": "2024-01-05T15:02:35.702560",
     "exception": false,
     "start_time": "2024-01-05T15:02:35.658965",
     "status": "completed"
    },
    "tags": []
   },
   "outputs": [],
   "source": [
    "# test_pos_df, test_sub_neg_df = sub_sample(test_sents_list, test_doc_dict)\n",
    "# test_bdf = test_pos_df.append(test_sub_neg_df)\n"
   ]
  },
  {
   "cell_type": "code",
   "execution_count": 23,
   "id": "7824e4f6",
   "metadata": {
    "execution": {
     "iopub.execute_input": "2024-01-05T15:02:35.773223Z",
     "iopub.status.busy": "2024-01-05T15:02:35.772732Z",
     "iopub.status.idle": "2024-01-05T15:02:35.803165Z",
     "shell.execute_reply": "2024-01-05T15:02:35.801921Z"
    },
    "papermill": {
     "duration": 0.069371,
     "end_time": "2024-01-05T15:02:35.805628",
     "exception": false,
     "start_time": "2024-01-05T15:02:35.736257",
     "status": "completed"
    },
    "tags": []
   },
   "outputs": [
    {
     "data": {
      "text/html": [
       "<div>\n",
       "<style scoped>\n",
       "    .dataframe tbody tr th:only-of-type {\n",
       "        vertical-align: middle;\n",
       "    }\n",
       "\n",
       "    .dataframe tbody tr th {\n",
       "        vertical-align: top;\n",
       "    }\n",
       "\n",
       "    .dataframe thead th {\n",
       "        text-align: right;\n",
       "    }\n",
       "</style>\n",
       "<table border=\"1\" class=\"dataframe\">\n",
       "  <thead>\n",
       "    <tr style=\"text-align: right;\">\n",
       "      <th></th>\n",
       "      <th>sents</th>\n",
       "      <th>docs</th>\n",
       "      <th>y</th>\n",
       "    </tr>\n",
       "  </thead>\n",
       "  <tbody>\n",
       "    <tr>\n",
       "      <th>3</th>\n",
       "      <td>The diocese announced on Monday that Bishop Jo...</td>\n",
       "      <td>By. Associated Press. PUBLISHED:. 14:11 EST, 2...</td>\n",
       "      <td>1</td>\n",
       "    </tr>\n",
       "    <tr>\n",
       "      <th>4</th>\n",
       "      <td>The diocese says he contracted the infection t...</td>\n",
       "      <td>By. Associated Press. PUBLISHED:. 14:11 EST, 2...</td>\n",
       "      <td>1</td>\n",
       "    </tr>\n",
       "    <tr>\n",
       "      <th>24</th>\n",
       "      <td>Police said Eccleston-Todd had drunk at least ...</td>\n",
       "      <td>A drunk driver who killed a young woman in a h...</td>\n",
       "      <td>1</td>\n",
       "    </tr>\n",
       "    <tr>\n",
       "      <th>25</th>\n",
       "      <td>He was found guilty of causing death by danger...</td>\n",
       "      <td>A drunk driver who killed a young woman in a h...</td>\n",
       "      <td>1</td>\n",
       "    </tr>\n",
       "    <tr>\n",
       "      <th>64</th>\n",
       "      <td>As such EU leaders must be ready to accept san...</td>\n",
       "      <td>(CNN) -- With a breezy sweep of his pen Presid...</td>\n",
       "      <td>1</td>\n",
       "    </tr>\n",
       "    <tr>\n",
       "      <th>...</th>\n",
       "      <td>...</td>\n",
       "      <td>...</td>\n",
       "      <td>...</td>\n",
       "    </tr>\n",
       "    <tr>\n",
       "      <th>1278539</th>\n",
       "      <td>Former Pakistan Prime Minister Benazir Bhutto ...</td>\n",
       "      <td>(CNN) -- A close aide to Pakistan's Taliban ch...</td>\n",
       "      <td>1</td>\n",
       "    </tr>\n",
       "    <tr>\n",
       "      <th>1278548</th>\n",
       "      <td>The charity's latest project, Bright Pink Lips...</td>\n",
       "      <td>Krystal Barter created the Pink Hope charity i...</td>\n",
       "      <td>1</td>\n",
       "    </tr>\n",
       "    <tr>\n",
       "      <th>1278787</th>\n",
       "      <td>They were arrested after a devastated Alan and...</td>\n",
       "      <td>A Florida man and his girlfriend allegedly bro...</td>\n",
       "      <td>1</td>\n",
       "    </tr>\n",
       "    <tr>\n",
       "      <th>1278789</th>\n",
       "      <td>According to WPTV the pair admitted to killing...</td>\n",
       "      <td>A Florida man and his girlfriend allegedly bro...</td>\n",
       "      <td>1</td>\n",
       "    </tr>\n",
       "    <tr>\n",
       "      <th>1278815</th>\n",
       "      <td>Producers Levin and Benjamin are both represen...</td>\n",
       "      <td>Chicago is no stranger to corruption so perhap...</td>\n",
       "      <td>1</td>\n",
       "    </tr>\n",
       "  </tbody>\n",
       "</table>\n",
       "<p>39878 rows × 3 columns</p>\n",
       "</div>"
      ],
      "text/plain": [
       "                                                     sents  \\\n",
       "3        The diocese announced on Monday that Bishop Jo...   \n",
       "4        The diocese says he contracted the infection t...   \n",
       "24       Police said Eccleston-Todd had drunk at least ...   \n",
       "25       He was found guilty of causing death by danger...   \n",
       "64       As such EU leaders must be ready to accept san...   \n",
       "...                                                    ...   \n",
       "1278539  Former Pakistan Prime Minister Benazir Bhutto ...   \n",
       "1278548  The charity's latest project, Bright Pink Lips...   \n",
       "1278787  They were arrested after a devastated Alan and...   \n",
       "1278789  According to WPTV the pair admitted to killing...   \n",
       "1278815  Producers Levin and Benjamin are both represen...   \n",
       "\n",
       "                                                      docs  y  \n",
       "3        By. Associated Press. PUBLISHED:. 14:11 EST, 2...  1  \n",
       "4        By. Associated Press. PUBLISHED:. 14:11 EST, 2...  1  \n",
       "24       A drunk driver who killed a young woman in a h...  1  \n",
       "25       A drunk driver who killed a young woman in a h...  1  \n",
       "64       (CNN) -- With a breezy sweep of his pen Presid...  1  \n",
       "...                                                    ... ..  \n",
       "1278539  (CNN) -- A close aide to Pakistan's Taliban ch...  1  \n",
       "1278548  Krystal Barter created the Pink Hope charity i...  1  \n",
       "1278787  A Florida man and his girlfriend allegedly bro...  1  \n",
       "1278789  A Florida man and his girlfriend allegedly bro...  1  \n",
       "1278815  Chicago is no stranger to corruption so perhap...  1  \n",
       "\n",
       "[39878 rows x 3 columns]"
      ]
     },
     "execution_count": 23,
     "metadata": {},
     "output_type": "execute_result"
    }
   ],
   "source": [
    "# test_pos_df\n",
    "train_pos_df"
   ]
  },
  {
   "cell_type": "code",
   "execution_count": 24,
   "id": "cd6f85c5",
   "metadata": {
    "execution": {
     "iopub.execute_input": "2024-01-05T15:02:35.878291Z",
     "iopub.status.busy": "2024-01-05T15:02:35.877858Z",
     "iopub.status.idle": "2024-01-05T15:02:35.892811Z",
     "shell.execute_reply": "2024-01-05T15:02:35.891607Z"
    },
    "papermill": {
     "duration": 0.053331,
     "end_time": "2024-01-05T15:02:35.895347",
     "exception": false,
     "start_time": "2024-01-05T15:02:35.842016",
     "status": "completed"
    },
    "tags": []
   },
   "outputs": [
    {
     "data": {
      "text/html": [
       "<div>\n",
       "<style scoped>\n",
       "    .dataframe tbody tr th:only-of-type {\n",
       "        vertical-align: middle;\n",
       "    }\n",
       "\n",
       "    .dataframe tbody tr th {\n",
       "        vertical-align: top;\n",
       "    }\n",
       "\n",
       "    .dataframe thead th {\n",
       "        text-align: right;\n",
       "    }\n",
       "</style>\n",
       "<table border=\"1\" class=\"dataframe\">\n",
       "  <thead>\n",
       "    <tr style=\"text-align: right;\">\n",
       "      <th></th>\n",
       "      <th>sents</th>\n",
       "      <th>docs</th>\n",
       "      <th>y</th>\n",
       "    </tr>\n",
       "  </thead>\n",
       "  <tbody>\n",
       "    <tr>\n",
       "      <th>557497</th>\n",
       "      <td>Getting water to every person on the planet wi...</td>\n",
       "      <td>London (CNN) -- When one looks back at humanit...</td>\n",
       "      <td>0</td>\n",
       "    </tr>\n",
       "    <tr>\n",
       "      <th>135480</th>\n",
       "      <td>TV: Shazam's biggest small screen venture to d...</td>\n",
       "      <td>If you've ever fallen in love with a piece of ...</td>\n",
       "      <td>0</td>\n",
       "    </tr>\n",
       "    <tr>\n",
       "      <th>399446</th>\n",
       "      <td>BJP spokesman Mukhtar Abbas Naqvi said: 'He [P...</td>\n",
       "      <td>By. Piyush Srivastava. Updated:. 16:41 EST, 22...</td>\n",
       "      <td>0</td>\n",
       "    </tr>\n",
       "    <tr>\n",
       "      <th>413273</th>\n",
       "      <td>‘The prosecution accept Anne Pollen had intend...</td>\n",
       "      <td>By. Chris Pleasance. Ann Pollen has admitted k...</td>\n",
       "      <td>0</td>\n",
       "    </tr>\n",
       "    <tr>\n",
       "      <th>1275232</th>\n",
       "      <td>All the girls must be well-behaved, and they p...</td>\n",
       "      <td>A cropped version of the controversial image. ...</td>\n",
       "      <td>0</td>\n",
       "    </tr>\n",
       "    <tr>\n",
       "      <th>...</th>\n",
       "      <td>...</td>\n",
       "      <td>...</td>\n",
       "      <td>...</td>\n",
       "    </tr>\n",
       "    <tr>\n",
       "      <th>836793</th>\n",
       "      <td>Major Stallard launched Operation Olympian, so...</td>\n",
       "      <td>The story of  the greatest escape of World War...</td>\n",
       "      <td>0</td>\n",
       "    </tr>\n",
       "    <tr>\n",
       "      <th>231387</th>\n",
       "      <td>\"These online activities make them more mature...</td>\n",
       "      <td>Beijing, China (CNN) -- Lazy, promiscuous, con...</td>\n",
       "      <td>0</td>\n",
       "    </tr>\n",
       "    <tr>\n",
       "      <th>1081154</th>\n",
       "      <td>However, it said mayor Guo Jinlong had stepped...</td>\n",
       "      <td>Hong Kong (CNN) -- More rain was forecast for ...</td>\n",
       "      <td>0</td>\n",
       "    </tr>\n",
       "    <tr>\n",
       "      <th>522113</th>\n",
       "      <td>Mrs Justice Pauffley concluded: ‘The details w...</td>\n",
       "      <td>By. Sam Greenhill. High Court judge Mrs Justic...</td>\n",
       "      <td>0</td>\n",
       "    </tr>\n",
       "    <tr>\n",
       "      <th>1174379</th>\n",
       "      <td>Claw blimey: Tara, with Roger Triantafilo, lea...</td>\n",
       "      <td>By. Snejana Farberov. and Ted Thornhill. Tara ...</td>\n",
       "      <td>0</td>\n",
       "    </tr>\n",
       "  </tbody>\n",
       "</table>\n",
       "<p>79756 rows × 3 columns</p>\n",
       "</div>"
      ],
      "text/plain": [
       "                                                     sents  \\\n",
       "557497   Getting water to every person on the planet wi...   \n",
       "135480   TV: Shazam's biggest small screen venture to d...   \n",
       "399446   BJP spokesman Mukhtar Abbas Naqvi said: 'He [P...   \n",
       "413273   ‘The prosecution accept Anne Pollen had intend...   \n",
       "1275232  All the girls must be well-behaved, and they p...   \n",
       "...                                                    ...   \n",
       "836793   Major Stallard launched Operation Olympian, so...   \n",
       "231387   \"These online activities make them more mature...   \n",
       "1081154  However, it said mayor Guo Jinlong had stepped...   \n",
       "522113   Mrs Justice Pauffley concluded: ‘The details w...   \n",
       "1174379  Claw blimey: Tara, with Roger Triantafilo, lea...   \n",
       "\n",
       "                                                      docs  y  \n",
       "557497   London (CNN) -- When one looks back at humanit...  0  \n",
       "135480   If you've ever fallen in love with a piece of ...  0  \n",
       "399446   By. Piyush Srivastava. Updated:. 16:41 EST, 22...  0  \n",
       "413273   By. Chris Pleasance. Ann Pollen has admitted k...  0  \n",
       "1275232  A cropped version of the controversial image. ...  0  \n",
       "...                                                    ... ..  \n",
       "836793   The story of  the greatest escape of World War...  0  \n",
       "231387   Beijing, China (CNN) -- Lazy, promiscuous, con...  0  \n",
       "1081154  Hong Kong (CNN) -- More rain was forecast for ...  0  \n",
       "522113   By. Sam Greenhill. High Court judge Mrs Justic...  0  \n",
       "1174379  By. Snejana Farberov. and Ted Thornhill. Tara ...  0  \n",
       "\n",
       "[79756 rows x 3 columns]"
      ]
     },
     "execution_count": 24,
     "metadata": {},
     "output_type": "execute_result"
    }
   ],
   "source": [
    "# test_sub_neg_df\n",
    "train_sub_neg_df"
   ]
  },
  {
   "cell_type": "code",
   "execution_count": 25,
   "id": "2b36b95d",
   "metadata": {
    "execution": {
     "iopub.execute_input": "2024-01-05T15:02:35.965592Z",
     "iopub.status.busy": "2024-01-05T15:02:35.964612Z",
     "iopub.status.idle": "2024-01-05T15:02:35.981447Z",
     "shell.execute_reply": "2024-01-05T15:02:35.980294Z"
    },
    "papermill": {
     "duration": 0.055067,
     "end_time": "2024-01-05T15:02:35.984283",
     "exception": false,
     "start_time": "2024-01-05T15:02:35.929216",
     "status": "completed"
    },
    "tags": []
   },
   "outputs": [],
   "source": [
    "# test_bdf = pd.concat([test_pos_df, test_sub_neg_df])\n",
    "train_bdf = pd.concat([train_pos_df, train_sub_neg_df])"
   ]
  },
  {
   "cell_type": "code",
   "execution_count": 26,
   "id": "26f147b4",
   "metadata": {
    "execution": {
     "iopub.execute_input": "2024-01-05T15:02:36.055208Z",
     "iopub.status.busy": "2024-01-05T15:02:36.054724Z",
     "iopub.status.idle": "2024-01-05T15:02:36.060396Z",
     "shell.execute_reply": "2024-01-05T15:02:36.059083Z"
    },
    "papermill": {
     "duration": 0.044115,
     "end_time": "2024-01-05T15:02:36.063187",
     "exception": false,
     "start_time": "2024-01-05T15:02:36.019072",
     "status": "completed"
    },
    "tags": []
   },
   "outputs": [],
   "source": [
    "# test_bdf"
   ]
  },
  {
   "cell_type": "code",
   "execution_count": 27,
   "id": "1938b96a",
   "metadata": {
    "execution": {
     "iopub.execute_input": "2024-01-05T15:02:36.137628Z",
     "iopub.status.busy": "2024-01-05T15:02:36.137222Z",
     "iopub.status.idle": "2024-01-05T15:02:36.178359Z",
     "shell.execute_reply": "2024-01-05T15:02:36.176904Z"
    },
    "papermill": {
     "duration": 0.083093,
     "end_time": "2024-01-05T15:02:36.181338",
     "exception": false,
     "start_time": "2024-01-05T15:02:36.098245",
     "status": "completed"
    },
    "tags": []
   },
   "outputs": [],
   "source": [
    "# test_bdf = test_bdf.sort_index()\n",
    "train_bdf = train_bdf.sort_index()"
   ]
  },
  {
   "cell_type": "code",
   "execution_count": 28,
   "id": "bf2c8543",
   "metadata": {
    "execution": {
     "iopub.execute_input": "2024-01-05T15:02:36.251831Z",
     "iopub.status.busy": "2024-01-05T15:02:36.251404Z",
     "iopub.status.idle": "2024-01-05T15:02:36.265743Z",
     "shell.execute_reply": "2024-01-05T15:02:36.264334Z"
    },
    "papermill": {
     "duration": 0.05338,
     "end_time": "2024-01-05T15:02:36.268960",
     "exception": false,
     "start_time": "2024-01-05T15:02:36.215580",
     "status": "completed"
    },
    "tags": []
   },
   "outputs": [
    {
     "data": {
      "text/html": [
       "<div>\n",
       "<style scoped>\n",
       "    .dataframe tbody tr th:only-of-type {\n",
       "        vertical-align: middle;\n",
       "    }\n",
       "\n",
       "    .dataframe tbody tr th {\n",
       "        vertical-align: top;\n",
       "    }\n",
       "\n",
       "    .dataframe thead th {\n",
       "        text-align: right;\n",
       "    }\n",
       "</style>\n",
       "<table border=\"1\" class=\"dataframe\">\n",
       "  <thead>\n",
       "    <tr style=\"text-align: right;\">\n",
       "      <th></th>\n",
       "      <th>sents</th>\n",
       "      <th>docs</th>\n",
       "      <th>y</th>\n",
       "    </tr>\n",
       "  </thead>\n",
       "  <tbody>\n",
       "    <tr>\n",
       "      <th>3</th>\n",
       "      <td>The diocese announced on Monday that Bishop Jo...</td>\n",
       "      <td>By. Associated Press. PUBLISHED:. 14:11 EST, 2...</td>\n",
       "      <td>1</td>\n",
       "    </tr>\n",
       "    <tr>\n",
       "      <th>4</th>\n",
       "      <td>The diocese says he contracted the infection t...</td>\n",
       "      <td>By. Associated Press. PUBLISHED:. 14:11 EST, 2...</td>\n",
       "      <td>1</td>\n",
       "    </tr>\n",
       "    <tr>\n",
       "      <th>9</th>\n",
       "      <td>A criminal complaint unsealed in U.S. District...</td>\n",
       "      <td>(CNN) -- Ralph Mata was an internal affairs li...</td>\n",
       "      <td>0</td>\n",
       "    </tr>\n",
       "    <tr>\n",
       "      <th>14</th>\n",
       "      <td>Mata, according to the complaint, then used co...</td>\n",
       "      <td>(CNN) -- Ralph Mata was an internal affairs li...</td>\n",
       "      <td>0</td>\n",
       "    </tr>\n",
       "    <tr>\n",
       "      <th>24</th>\n",
       "      <td>Police said Eccleston-Todd had drunk at least ...</td>\n",
       "      <td>A drunk driver who killed a young woman in a h...</td>\n",
       "      <td>1</td>\n",
       "    </tr>\n",
       "    <tr>\n",
       "      <th>...</th>\n",
       "      <td>...</td>\n",
       "      <td>...</td>\n",
       "      <td>...</td>\n",
       "    </tr>\n",
       "    <tr>\n",
       "      <th>1278789</th>\n",
       "      <td>According to WPTV the pair admitted to killing...</td>\n",
       "      <td>A Florida man and his girlfriend allegedly bro...</td>\n",
       "      <td>1</td>\n",
       "    </tr>\n",
       "    <tr>\n",
       "      <th>1278794</th>\n",
       "      <td>Charged: Adams and Curran are believed to have...</td>\n",
       "      <td>A Florida man and his girlfriend allegedly bro...</td>\n",
       "      <td>0</td>\n",
       "    </tr>\n",
       "    <tr>\n",
       "      <th>1278807</th>\n",
       "      <td>The 'star' of the show: Executive producer Mar...</td>\n",
       "      <td>Chicago is no stranger to corruption so perhap...</td>\n",
       "      <td>0</td>\n",
       "    </tr>\n",
       "    <tr>\n",
       "      <th>1278815</th>\n",
       "      <td>Producers Levin and Benjamin are both represen...</td>\n",
       "      <td>Chicago is no stranger to corruption so perhap...</td>\n",
       "      <td>1</td>\n",
       "    </tr>\n",
       "    <tr>\n",
       "      <th>1278816</th>\n",
       "      <td>When reached by the Tribune for comment, Levin...</td>\n",
       "      <td>Chicago is no stranger to corruption so perhap...</td>\n",
       "      <td>0</td>\n",
       "    </tr>\n",
       "  </tbody>\n",
       "</table>\n",
       "<p>119634 rows × 3 columns</p>\n",
       "</div>"
      ],
      "text/plain": [
       "                                                     sents  \\\n",
       "3        The diocese announced on Monday that Bishop Jo...   \n",
       "4        The diocese says he contracted the infection t...   \n",
       "9        A criminal complaint unsealed in U.S. District...   \n",
       "14       Mata, according to the complaint, then used co...   \n",
       "24       Police said Eccleston-Todd had drunk at least ...   \n",
       "...                                                    ...   \n",
       "1278789  According to WPTV the pair admitted to killing...   \n",
       "1278794  Charged: Adams and Curran are believed to have...   \n",
       "1278807  The 'star' of the show: Executive producer Mar...   \n",
       "1278815  Producers Levin and Benjamin are both represen...   \n",
       "1278816  When reached by the Tribune for comment, Levin...   \n",
       "\n",
       "                                                      docs  y  \n",
       "3        By. Associated Press. PUBLISHED:. 14:11 EST, 2...  1  \n",
       "4        By. Associated Press. PUBLISHED:. 14:11 EST, 2...  1  \n",
       "9        (CNN) -- Ralph Mata was an internal affairs li...  0  \n",
       "14       (CNN) -- Ralph Mata was an internal affairs li...  0  \n",
       "24       A drunk driver who killed a young woman in a h...  1  \n",
       "...                                                    ... ..  \n",
       "1278789  A Florida man and his girlfriend allegedly bro...  1  \n",
       "1278794  A Florida man and his girlfriend allegedly bro...  0  \n",
       "1278807  Chicago is no stranger to corruption so perhap...  0  \n",
       "1278815  Chicago is no stranger to corruption so perhap...  1  \n",
       "1278816  Chicago is no stranger to corruption so perhap...  0  \n",
       "\n",
       "[119634 rows x 3 columns]"
      ]
     },
     "execution_count": 28,
     "metadata": {},
     "output_type": "execute_result"
    }
   ],
   "source": [
    "# test_bdf\n",
    "train_bdf"
   ]
  },
  {
   "cell_type": "code",
   "execution_count": 29,
   "id": "df10540a",
   "metadata": {
    "execution": {
     "iopub.execute_input": "2024-01-05T15:02:36.341509Z",
     "iopub.status.busy": "2024-01-05T15:02:36.341103Z",
     "iopub.status.idle": "2024-01-05T15:02:36.346330Z",
     "shell.execute_reply": "2024-01-05T15:02:36.345088Z"
    },
    "papermill": {
     "duration": 0.044385,
     "end_time": "2024-01-05T15:02:36.348871",
     "exception": false,
     "start_time": "2024-01-05T15:02:36.304486",
     "status": "completed"
    },
    "tags": []
   },
   "outputs": [],
   "source": [
    "# test_bdf.to_json(\"data/test_bdf.json\")"
   ]
  },
  {
   "cell_type": "code",
   "execution_count": 30,
   "id": "779f7f25",
   "metadata": {
    "execution": {
     "iopub.execute_input": "2024-01-05T15:02:36.420852Z",
     "iopub.status.busy": "2024-01-05T15:02:36.420379Z",
     "iopub.status.idle": "2024-01-05T15:02:40.236218Z",
     "shell.execute_reply": "2024-01-05T15:02:40.234941Z"
    },
    "papermill": {
     "duration": 3.854684,
     "end_time": "2024-01-05T15:02:40.239176",
     "exception": false,
     "start_time": "2024-01-05T15:02:36.384492",
     "status": "completed"
    },
    "tags": []
   },
   "outputs": [],
   "source": [
    "train_bdf.to_json(\"data/train_bdf.json\")\n"
   ]
  }
 ],
 "metadata": {
  "kaggle": {
   "accelerator": "none",
   "dataSources": [
    {
     "datasetId": 4260420,
     "sourceId": 7338312,
     "sourceType": "datasetVersion"
    },
    {
     "datasetId": 4262972,
     "sourceId": 7342041,
     "sourceType": "datasetVersion"
    }
   ],
   "dockerImageVersionId": 30626,
   "isGpuEnabled": false,
   "isInternetEnabled": true,
   "language": "python",
   "sourceType": "notebook"
  },
  "kernelspec": {
   "display_name": "Python 3",
   "language": "python",
   "name": "python3"
  },
  "language_info": {
   "codemirror_mode": {
    "name": "ipython",
    "version": 3
   },
   "file_extension": ".py",
   "mimetype": "text/x-python",
   "name": "python",
   "nbconvert_exporter": "python",
   "pygments_lexer": "ipython3",
   "version": "3.10.12"
  },
  "papermill": {
   "default_parameters": {},
   "duration": 6583.026493,
   "end_time": "2024-01-05T15:02:43.610245",
   "environment_variables": {},
   "exception": null,
   "input_path": "__notebook__.ipynb",
   "output_path": "__notebook__.ipynb",
   "parameters": {},
   "start_time": "2024-01-05T13:13:00.583752",
   "version": "2.4.0"
  }
 },
 "nbformat": 4,
 "nbformat_minor": 5
}
